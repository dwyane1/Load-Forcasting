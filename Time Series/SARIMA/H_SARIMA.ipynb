{
  "nbformat": 4,
  "nbformat_minor": 0,
  "metadata": {
    "colab": {
      "name": "H_SARIMA",
      "provenance": []
    },
    "kernelspec": {
      "name": "python3",
      "display_name": "Python 3"
    },
    "accelerator": "GPU"
  },
  "cells": [
    {
      "cell_type": "markdown",
      "metadata": {
        "id": "_B7R8bZpgNas",
        "colab_type": "text"
      },
      "source": [
        "Implementatio of Load Forecasting(Hourly) using **SARIMA** model on **Hourly Data**"
      ]
    },
    {
      "cell_type": "code",
      "metadata": {
        "id": "QgsBuLwdgGKr",
        "colab_type": "code",
        "colab": {}
      },
      "source": [
        "!pip install pmdarima"
      ],
      "execution_count": null,
      "outputs": []
    },
    {
      "cell_type": "code",
      "metadata": {
        "id": "ABRKBHi0gqgz",
        "colab_type": "code",
        "colab": {}
      },
      "source": [
        "import csv\n",
        "import math\n",
        "import matplotlib.mlab as mlab\n",
        "import matplotlib.pyplot as plt\n",
        "import numpy as np\n",
        "import os\n",
        "import pandas as pd\n",
        "import pmdarima\n",
        "import random\n",
        "import seaborn as sns\n",
        "import statsmodels.tsa.stattools as ts\n",
        "from pmdarima import auto_arima\n",
        "from statsmodels.tsa.stattools import acf, pacf\n",
        "from statsmodels.tsa.arima_model import ARIMA\n",
        "from statsmodels.tsa.seasonal import seasonal_decompose"
      ],
      "execution_count": null,
      "outputs": []
    },
    {
      "cell_type": "code",
      "metadata": {
        "id": "DCyaDmELguRY",
        "colab_type": "code",
        "colab": {
          "resources": {
            "http://localhost:8080/nbextensions/google.colab/files.js": {
              "data": "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",
              "ok": true,
              "headers": [
                [
                  "content-type",
                  "application/javascript"
                ]
              ],
              "status": 200,
              "status_text": ""
            }
          },
          "base_uri": "https://localhost:8080/",
          "height": 72
        },
        "outputId": "1bf506cf-8340-474f-e260-4203920ffccb"
      },
      "source": [
        "from google.colab import files\n",
        "uploaded = files.upload()"
      ],
      "execution_count": null,
      "outputs": [
        {
          "output_type": "display_data",
          "data": {
            "text/html": [
              "\n",
              "     <input type=\"file\" id=\"files-db3659ef-bf58-4824-a65f-50b9759769c2\" name=\"files[]\" multiple disabled\n",
              "        style=\"border:none\" />\n",
              "     <output id=\"result-db3659ef-bf58-4824-a65f-50b9759769c2\">\n",
              "      Upload widget is only available when the cell has been executed in the\n",
              "      current browser session. Please rerun this cell to enable.\n",
              "      </output>\n",
              "      <script src=\"/nbextensions/google.colab/files.js\"></script> "
            ],
            "text/plain": [
              "<IPython.core.display.HTML object>"
            ]
          },
          "metadata": {
            "tags": []
          }
        },
        {
          "output_type": "stream",
          "text": [
            "Saving load2.csv to load2.csv\n"
          ],
          "name": "stdout"
        }
      ]
    },
    {
      "cell_type": "code",
      "metadata": {
        "id": "ZFMwOyelg36b",
        "colab_type": "code",
        "colab": {}
      },
      "source": [
        "import io\n",
        "df = pd.read_csv(io.BytesIO(uploaded['load2.csv']))"
      ],
      "execution_count": null,
      "outputs": []
    },
    {
      "cell_type": "code",
      "metadata": {
        "id": "FiRjxUXvPJNO",
        "colab_type": "code",
        "colab": {}
      },
      "source": [
        "l1=list()\n",
        "l2=list()"
      ],
      "execution_count": null,
      "outputs": []
    },
    {
      "cell_type": "code",
      "metadata": {
        "id": "_k5MJxL5RXDT",
        "colab_type": "code",
        "colab": {}
      },
      "source": [
        "def mean_absolute_percentage_error(y_true, y_pred): \n",
        "    y_true, y_pred = np.array(y_true), np.array(y_pred)\n",
        "    return np.mean(np.abs((y_true - y_pred) / y_true)) * 100"
      ],
      "execution_count": null,
      "outputs": []
    },
    {
      "cell_type": "code",
      "metadata": {
        "id": "Zeq84SbhhPkN",
        "colab_type": "code",
        "colab": {}
      },
      "source": [
        "train=df['hour0'].head(700)\n",
        "test=df['hour0'][700:]"
      ],
      "execution_count": null,
      "outputs": []
    },
    {
      "cell_type": "code",
      "metadata": {
        "id": "cVJ3fajVhRFv",
        "colab_type": "code",
        "colab": {}
      },
      "source": [
        "Arima_model=auto_arima(train, start_p=0, start_q=0, max_p=8, max_q=8, start_P=0, start_Q=0, max_P=8, max_Q=8, m=7, seasonal=True, trace=True, d=pmdarima.arima.ndiffs(train), D=pmdarima.arima.nsdiffs(train,7), error_action='warn', suppress_warnings=True, random_state =1 , n_fits=1)"
      ],
      "execution_count": null,
      "outputs": []
    },
    {
      "cell_type": "code",
      "metadata": {
        "id": "w4U6qVcqhbVL",
        "colab_type": "code",
        "colab": {}
      },
      "source": [
        "Arima_model.summary()"
      ],
      "execution_count": null,
      "outputs": []
    },
    {
      "cell_type": "code",
      "metadata": {
        "id": "RTkGHU6QR2bM",
        "colab_type": "code",
        "colab": {}
      },
      "source": [
        "prediction=pd.DataFrame(Arima_model.predict(n_periods=29), index=test.index)\n",
        "prediction.columns = ['Predicted_Load']"
      ],
      "execution_count": null,
      "outputs": []
    },
    {
      "cell_type": "code",
      "metadata": {
        "id": "a4bq5zFrhr5E",
        "colab_type": "code",
        "colab": {}
      },
      "source": [
        "l1+=test.tolist()\n",
        "l2+=prediction['Predicted_Load'].tolist()"
      ],
      "execution_count": null,
      "outputs": []
    },
    {
      "cell_type": "code",
      "metadata": {
        "id": "gBTa1pzthsrI",
        "colab_type": "code",
        "colab": {}
      },
      "source": [
        "train=df['hour1'].head(700)\n",
        "test=df['hour1'][700:]"
      ],
      "execution_count": null,
      "outputs": []
    },
    {
      "cell_type": "code",
      "metadata": {
        "id": "ql-mZbV7hv47",
        "colab_type": "code",
        "colab": {}
      },
      "source": [
        "Arima_model=auto_arima(train, start_p=0, start_q=0, max_p=8, max_q=8, start_P=0, start_Q=0, max_P=8, max_Q=8, m=7, seasonal=True, trace=True, d=pmdarima.arima.ndiffs(train), D=pmdarima.arima.nsdiffs(train,7), error_action='warn', suppress_warnings=True, random_state =1 , n_fits=1)"
      ],
      "execution_count": null,
      "outputs": []
    },
    {
      "cell_type": "code",
      "metadata": {
        "id": "1jtG3fFDhxVS",
        "colab_type": "code",
        "colab": {}
      },
      "source": [
        "Arima_model.summary()"
      ],
      "execution_count": null,
      "outputs": []
    },
    {
      "cell_type": "code",
      "metadata": {
        "id": "P0spprAASegU",
        "colab_type": "code",
        "colab": {}
      },
      "source": [
        "prediction=pd.DataFrame(Arima_model.predict(n_periods=29), index=test.index)\n",
        "prediction.columns = ['Predicted_Load']"
      ],
      "execution_count": null,
      "outputs": []
    },
    {
      "cell_type": "code",
      "metadata": {
        "id": "J87ae0XbSiw2",
        "colab_type": "code",
        "colab": {}
      },
      "source": [
        "l1+=test.tolist()\n",
        "l2+=prediction['Predicted_Load'].tolist()"
      ],
      "execution_count": null,
      "outputs": []
    },
    {
      "cell_type": "code",
      "metadata": {
        "id": "6oMHqpbnTDyo",
        "colab_type": "code",
        "colab": {}
      },
      "source": [
        "train=df['hour2'].head(700)\n",
        "test=df['hour2'][700:]"
      ],
      "execution_count": null,
      "outputs": []
    },
    {
      "cell_type": "code",
      "metadata": {
        "id": "-XBPdkWxYVay",
        "colab_type": "code",
        "colab": {}
      },
      "source": [
        "Arima_model=auto_arima(train, start_p=0, start_q=0, max_p=8, max_q=8, start_P=0, start_Q=0, max_P=8, max_Q=8, m=7, seasonal=True, trace=True, d=pmdarima.arima.ndiffs(train), D=pmdarima.arima.nsdiffs(train,7), error_action='warn', suppress_warnings=True, random_state =1 , n_fits=1)"
      ],
      "execution_count": null,
      "outputs": []
    },
    {
      "cell_type": "code",
      "metadata": {
        "id": "Y26DG4-rYWwR",
        "colab_type": "code",
        "colab": {}
      },
      "source": [
        "Arima_model.summary()"
      ],
      "execution_count": null,
      "outputs": []
    },
    {
      "cell_type": "code",
      "metadata": {
        "id": "kXPnkdtSZgtE",
        "colab_type": "code",
        "colab": {}
      },
      "source": [
        "prediction=pd.DataFrame(Arima_model.predict(n_periods=29), index=test.index)\n",
        "prediction.columns = ['Predicted_Load']"
      ],
      "execution_count": null,
      "outputs": []
    },
    {
      "cell_type": "code",
      "metadata": {
        "id": "OOQ8PamjZg9Z",
        "colab_type": "code",
        "colab": {}
      },
      "source": [
        "l1+=test.tolist()\n",
        "l2+=prediction['Predicted_Load'].tolist()"
      ],
      "execution_count": null,
      "outputs": []
    },
    {
      "cell_type": "code",
      "metadata": {
        "id": "nyVJ5NNwYZEo",
        "colab_type": "code",
        "colab": {}
      },
      "source": [
        "train=df['hour3'].head(700)\n",
        "test=df['hour3'][700:]"
      ],
      "execution_count": null,
      "outputs": []
    },
    {
      "cell_type": "code",
      "metadata": {
        "id": "kcTLYBqIZc86",
        "colab_type": "code",
        "colab": {}
      },
      "source": [
        "Arima_model=auto_arima(train, start_p=0, start_q=0, max_p=8, max_q=8, start_P=0, start_Q=0, max_P=8, max_Q=8, m=7, seasonal=True, trace=True, d=pmdarima.arima.ndiffs(train), D=pmdarima.arima.nsdiffs(train,7), error_action='warn', suppress_warnings=True, random_state =1 , n_fits=1)"
      ],
      "execution_count": null,
      "outputs": []
    },
    {
      "cell_type": "code",
      "metadata": {
        "id": "hnT514sbZizR",
        "colab_type": "code",
        "colab": {}
      },
      "source": [
        "Arima_model.summary()"
      ],
      "execution_count": null,
      "outputs": []
    },
    {
      "cell_type": "code",
      "metadata": {
        "id": "LQg-bl0EZiYN",
        "colab_type": "code",
        "colab": {}
      },
      "source": [
        "prediction=pd.DataFrame(Arima_model.predict(n_periods=29), index=test.index)\n",
        "prediction.columns = ['Predicted_Load']"
      ],
      "execution_count": null,
      "outputs": []
    },
    {
      "cell_type": "code",
      "metadata": {
        "id": "yRKCE6oLZii6",
        "colab_type": "code",
        "colab": {}
      },
      "source": [
        "l1+=test.tolist()\n",
        "l2+=prediction['Predicted_Load'].tolist()"
      ],
      "execution_count": null,
      "outputs": []
    },
    {
      "cell_type": "code",
      "metadata": {
        "id": "jL94VIRgYeJo",
        "colab_type": "code",
        "colab": {}
      },
      "source": [
        "train=df['hour4'].head(700)\n",
        "test=df['hour4'][700:]"
      ],
      "execution_count": null,
      "outputs": []
    },
    {
      "cell_type": "code",
      "metadata": {
        "id": "w-9Uef1WZkU1",
        "colab_type": "code",
        "colab": {}
      },
      "source": [
        "Arima_model=auto_arima(train, start_p=0, start_q=0, max_p=8, max_q=8, start_P=0, start_Q=0, max_P=8, max_Q=8, m=7, seasonal=True, trace=True, d=pmdarima.arima.ndiffs(train), D=pmdarima.arima.nsdiffs(train,7), error_action='warn', suppress_warnings=True, random_state =1 , n_fits=1)"
      ],
      "execution_count": null,
      "outputs": []
    },
    {
      "cell_type": "code",
      "metadata": {
        "id": "XlrQzee4ZjzT",
        "colab_type": "code",
        "colab": {}
      },
      "source": [
        "Arima_model.summary()"
      ],
      "execution_count": null,
      "outputs": []
    },
    {
      "cell_type": "code",
      "metadata": {
        "id": "jEZnT5StZjpU",
        "colab_type": "code",
        "colab": {}
      },
      "source": [
        "prediction=pd.DataFrame(Arima_model.predict(n_periods=29), index=test.index)\n",
        "prediction.columns = ['Predicted_Load']"
      ],
      "execution_count": null,
      "outputs": []
    },
    {
      "cell_type": "code",
      "metadata": {
        "id": "nLLPRCoKZlH4",
        "colab_type": "code",
        "colab": {}
      },
      "source": [
        "l1+=test.tolist()\n",
        "l2+=prediction['Predicted_Load'].tolist()"
      ],
      "execution_count": null,
      "outputs": []
    },
    {
      "cell_type": "code",
      "metadata": {
        "id": "RsWYWcUdYfk_",
        "colab_type": "code",
        "colab": {}
      },
      "source": [
        "train=df['hour5'].head(700)\n",
        "test=df['hour5'][700:]"
      ],
      "execution_count": null,
      "outputs": []
    },
    {
      "cell_type": "code",
      "metadata": {
        "id": "0Apf4v1UZpjB",
        "colab_type": "code",
        "colab": {}
      },
      "source": [
        "Arima_model=auto_arima(train, start_p=0, start_q=0, max_p=8, max_q=8, start_P=0, start_Q=0, max_P=8, max_Q=8, m=7, seasonal=True, trace=True, d=pmdarima.arima.ndiffs(train), D=pmdarima.arima.nsdiffs(train,7), error_action='warn', suppress_warnings=True, random_state =1 , n_fits=1)"
      ],
      "execution_count": null,
      "outputs": []
    },
    {
      "cell_type": "code",
      "metadata": {
        "id": "84sONW4IZpVZ",
        "colab_type": "code",
        "colab": {}
      },
      "source": [
        "Arima_model.summary()"
      ],
      "execution_count": null,
      "outputs": []
    },
    {
      "cell_type": "code",
      "metadata": {
        "id": "4m0rO0AtZo62",
        "colab_type": "code",
        "colab": {}
      },
      "source": [
        "prediction=pd.DataFrame(Arima_model.predict(n_periods=29), index=test.index)\n",
        "prediction.columns = ['Predicted_Load']"
      ],
      "execution_count": null,
      "outputs": []
    },
    {
      "cell_type": "code",
      "metadata": {
        "id": "dSCwq4ccZpKj",
        "colab_type": "code",
        "colab": {}
      },
      "source": [
        "l1+=test.tolist()\n",
        "l2+=prediction['Predicted_Load'].tolist()"
      ],
      "execution_count": null,
      "outputs": []
    },
    {
      "cell_type": "code",
      "metadata": {
        "id": "Hg_JZJbLYgQf",
        "colab_type": "code",
        "colab": {}
      },
      "source": [
        "train=df['hour6'].head(700)\n",
        "test=df['hour6'][700:]"
      ],
      "execution_count": null,
      "outputs": []
    },
    {
      "cell_type": "code",
      "metadata": {
        "id": "BIBv9xyGZw4K",
        "colab_type": "code",
        "colab": {}
      },
      "source": [
        "Arima_model=auto_arima(train, start_p=0, start_q=0, max_p=8, max_q=8, start_P=0, start_Q=0, max_P=8, max_Q=8, m=7, seasonal=True, trace=True, d=pmdarima.arima.ndiffs(train), D=pmdarima.arima.nsdiffs(train,7), error_action='warn', suppress_warnings=True, random_state =1 , n_fits=1)"
      ],
      "execution_count": null,
      "outputs": []
    },
    {
      "cell_type": "code",
      "metadata": {
        "id": "Ksiy_LpVZwjV",
        "colab_type": "code",
        "colab": {}
      },
      "source": [
        "Arima_model.summary()"
      ],
      "execution_count": null,
      "outputs": []
    },
    {
      "cell_type": "code",
      "metadata": {
        "id": "9xu_ZIDwZwJQ",
        "colab_type": "code",
        "colab": {}
      },
      "source": [
        "prediction=pd.DataFrame(Arima_model.predict(n_periods=29), index=test.index)\n",
        "prediction.columns = ['Predicted_Load']"
      ],
      "execution_count": null,
      "outputs": []
    },
    {
      "cell_type": "code",
      "metadata": {
        "id": "f5wP6DxGZwTk",
        "colab_type": "code",
        "colab": {}
      },
      "source": [
        "l1+=test.tolist()\n",
        "l2+=prediction['Predicted_Load'].tolist()"
      ],
      "execution_count": null,
      "outputs": []
    },
    {
      "cell_type": "code",
      "metadata": {
        "id": "mh1QpRXqYhHs",
        "colab_type": "code",
        "colab": {}
      },
      "source": [
        "train=df['hour7'].head(700)\n",
        "test=df['hour7'][700:]"
      ],
      "execution_count": null,
      "outputs": []
    },
    {
      "cell_type": "code",
      "metadata": {
        "id": "3czzdG-EZ2m5",
        "colab_type": "code",
        "colab": {}
      },
      "source": [
        "Arima_model=auto_arima(train, start_p=0, start_q=0, max_p=8, max_q=8, start_P=0, start_Q=0, max_P=8, max_Q=8, m=7, seasonal=True, trace=True, d=pmdarima.arima.ndiffs(train), D=pmdarima.arima.nsdiffs(train,7), error_action='warn', suppress_warnings=True, random_state =1 , n_fits=1)"
      ],
      "execution_count": null,
      "outputs": []
    },
    {
      "cell_type": "code",
      "metadata": {
        "id": "Cfol1C69Z2Kp",
        "colab_type": "code",
        "colab": {}
      },
      "source": [
        "Arima_model.summary()"
      ],
      "execution_count": null,
      "outputs": []
    },
    {
      "cell_type": "code",
      "metadata": {
        "id": "Fnla1GgOZ14d",
        "colab_type": "code",
        "colab": {}
      },
      "source": [
        "prediction=pd.DataFrame(Arima_model.predict(n_periods=29), index=test.index)\n",
        "prediction.columns = ['Predicted_Load']"
      ],
      "execution_count": null,
      "outputs": []
    },
    {
      "cell_type": "code",
      "metadata": {
        "id": "wrH2U77GZ2AN",
        "colab_type": "code",
        "colab": {}
      },
      "source": [
        "l1+=test.tolist()\n",
        "l2+=prediction['Predicted_Load'].tolist()"
      ],
      "execution_count": null,
      "outputs": []
    },
    {
      "cell_type": "code",
      "metadata": {
        "id": "x2QsOibuYjac",
        "colab_type": "code",
        "colab": {}
      },
      "source": [
        "train=df['hour8'].head(700)\n",
        "test=df['hour8'][700:]"
      ],
      "execution_count": null,
      "outputs": []
    },
    {
      "cell_type": "code",
      "metadata": {
        "id": "uCTaFSKPZ6SD",
        "colab_type": "code",
        "colab": {}
      },
      "source": [
        "Arima_model=auto_arima(train, start_p=0, start_q=0, max_p=8, max_q=8, start_P=0, start_Q=0, max_P=8, max_Q=8, m=7, seasonal=True, trace=True, d=pmdarima.arima.ndiffs(train), D=pmdarima.arima.nsdiffs(train,7), error_action='warn', suppress_warnings=True, random_state =1 , n_fits=1)"
      ],
      "execution_count": null,
      "outputs": []
    },
    {
      "cell_type": "code",
      "metadata": {
        "id": "nn_CBQoyZ6FI",
        "colab_type": "code",
        "colab": {}
      },
      "source": [
        "Arima_model.summary()"
      ],
      "execution_count": null,
      "outputs": []
    },
    {
      "cell_type": "code",
      "metadata": {
        "id": "QBz9JpZeZ5u0",
        "colab_type": "code",
        "colab": {}
      },
      "source": [
        "prediction=pd.DataFrame(Arima_model.predict(n_periods=29), index=test.index)\n",
        "prediction.columns = ['Predicted_Load']"
      ],
      "execution_count": null,
      "outputs": []
    },
    {
      "cell_type": "code",
      "metadata": {
        "id": "bRZlQF3tZ53P",
        "colab_type": "code",
        "colab": {}
      },
      "source": [
        "l1+=test.tolist()\n",
        "l2+=prediction['Predicted_Load'].tolist()"
      ],
      "execution_count": null,
      "outputs": []
    },
    {
      "cell_type": "code",
      "metadata": {
        "id": "EeYSpRrpYknw",
        "colab_type": "code",
        "colab": {}
      },
      "source": [
        "train=df['hour9'].head(700)\n",
        "test=df['hour9'][700:]"
      ],
      "execution_count": null,
      "outputs": []
    },
    {
      "cell_type": "code",
      "metadata": {
        "id": "9G2lFEqXZ86b",
        "colab_type": "code",
        "colab": {}
      },
      "source": [
        "Arima_model=auto_arima(train, start_p=0, start_q=0, max_p=8, max_q=8, start_P=0, start_Q=0, max_P=8, max_Q=8, m=7, seasonal=True, trace=True, d=pmdarima.arima.ndiffs(train), D=pmdarima.arima.nsdiffs(train,7), error_action='warn', suppress_warnings=True, random_state =1 , n_fits=1)"
      ],
      "execution_count": null,
      "outputs": []
    },
    {
      "cell_type": "code",
      "metadata": {
        "id": "2lhMWppnZ8nZ",
        "colab_type": "code",
        "colab": {}
      },
      "source": [
        "Arima_model.summary()"
      ],
      "execution_count": null,
      "outputs": []
    },
    {
      "cell_type": "code",
      "metadata": {
        "id": "Risuivq4Z8IT",
        "colab_type": "code",
        "colab": {}
      },
      "source": [
        "prediction=pd.DataFrame(Arima_model.predict(n_periods=29), index=test.index)\n",
        "prediction.columns = ['Predicted_Load']"
      ],
      "execution_count": null,
      "outputs": []
    },
    {
      "cell_type": "code",
      "metadata": {
        "id": "eg4oGqK8Z8SX",
        "colab_type": "code",
        "colab": {}
      },
      "source": [
        "l1+=test.tolist()\n",
        "l2+=prediction['Predicted_Load'].tolist()"
      ],
      "execution_count": null,
      "outputs": []
    },
    {
      "cell_type": "code",
      "metadata": {
        "id": "E7VpmQVXYlYJ",
        "colab_type": "code",
        "colab": {}
      },
      "source": [
        "train=df['hour10'].head(700)\n",
        "test=df['hour10'][700:]"
      ],
      "execution_count": null,
      "outputs": []
    },
    {
      "cell_type": "code",
      "metadata": {
        "id": "R_92vMBaZ_nX",
        "colab_type": "code",
        "colab": {}
      },
      "source": [
        "Arima_model=auto_arima(train, start_p=0, start_q=0, max_p=8, max_q=8, start_P=0, start_Q=0, max_P=8, max_Q=8, m=7, seasonal=True, trace=True, d=pmdarima.arima.ndiffs(train), D=pmdarima.arima.nsdiffs(train,7), error_action='warn', suppress_warnings=True, random_state =1 , n_fits=1)"
      ],
      "execution_count": null,
      "outputs": []
    },
    {
      "cell_type": "code",
      "metadata": {
        "id": "AcMt5jw5Z_Nc",
        "colab_type": "code",
        "colab": {}
      },
      "source": [
        "Arima_model.summary()"
      ],
      "execution_count": null,
      "outputs": []
    },
    {
      "cell_type": "code",
      "metadata": {
        "id": "51KK-a8kZ-q_",
        "colab_type": "code",
        "colab": {}
      },
      "source": [
        "prediction=pd.DataFrame(Arima_model.predict(n_periods=29), index=test.index)\n",
        "prediction.columns = ['Predicted_Load']"
      ],
      "execution_count": null,
      "outputs": []
    },
    {
      "cell_type": "code",
      "metadata": {
        "id": "BY6Fbj86Z-4f",
        "colab_type": "code",
        "colab": {}
      },
      "source": [
        "l1+=test.tolist()\n",
        "l2+=prediction['Predicted_Load'].tolist()"
      ],
      "execution_count": null,
      "outputs": []
    },
    {
      "cell_type": "code",
      "metadata": {
        "id": "xQWfk54qYnzq",
        "colab_type": "code",
        "colab": {}
      },
      "source": [
        "train=df['hour11'].head(700)\n",
        "test=df['hour11'][700:]"
      ],
      "execution_count": null,
      "outputs": []
    },
    {
      "cell_type": "code",
      "metadata": {
        "id": "3TcnYA9faB_X",
        "colab_type": "code",
        "colab": {}
      },
      "source": [
        "Arima_model=auto_arima(train, start_p=0, start_q=0, max_p=8, max_q=8, start_P=0, start_Q=0, max_P=8, max_Q=8, m=7, seasonal=True, trace=True, d=pmdarima.arima.ndiffs(train), D=pmdarima.arima.nsdiffs(train,7), error_action='warn', suppress_warnings=True, random_state =1 , n_fits=1)"
      ],
      "execution_count": null,
      "outputs": []
    },
    {
      "cell_type": "code",
      "metadata": {
        "id": "w6MhYk2ZaBtj",
        "colab_type": "code",
        "colab": {}
      },
      "source": [
        "Arima_model.summary()"
      ],
      "execution_count": null,
      "outputs": []
    },
    {
      "cell_type": "code",
      "metadata": {
        "id": "hVpD4VvwaBUw",
        "colab_type": "code",
        "colab": {}
      },
      "source": [
        "prediction=pd.DataFrame(Arima_model.predict(n_periods=29), index=test.index)\n",
        "prediction.columns = ['Predicted_Load']"
      ],
      "execution_count": null,
      "outputs": []
    },
    {
      "cell_type": "code",
      "metadata": {
        "id": "Anr4Vo84aBgp",
        "colab_type": "code",
        "colab": {}
      },
      "source": [
        "l1+=test.tolist()\n",
        "l2+=prediction['Predicted_Load'].tolist()"
      ],
      "execution_count": null,
      "outputs": []
    },
    {
      "cell_type": "code",
      "metadata": {
        "id": "ltdOIxyhYotz",
        "colab_type": "code",
        "colab": {}
      },
      "source": [
        "train=df['hour12'].head(700)\n",
        "test=df['hour12'][700:]"
      ],
      "execution_count": null,
      "outputs": []
    },
    {
      "cell_type": "code",
      "metadata": {
        "id": "rtZ4LWODaJgJ",
        "colab_type": "code",
        "colab": {}
      },
      "source": [
        "Arima_model=auto_arima(train, start_p=0, start_q=0, max_p=8, max_q=8, start_P=0, start_Q=0, max_P=8, max_Q=8, m=7, seasonal=True, trace=True, d=pmdarima.arima.ndiffs(train), D=pmdarima.arima.nsdiffs(train,7), error_action='warn', suppress_warnings=True, random_state =1 , n_fits=1)"
      ],
      "execution_count": null,
      "outputs": []
    },
    {
      "cell_type": "code",
      "metadata": {
        "id": "A9VXt600aJMA",
        "colab_type": "code",
        "colab": {}
      },
      "source": [
        "Arima_model.summary()"
      ],
      "execution_count": null,
      "outputs": []
    },
    {
      "cell_type": "code",
      "metadata": {
        "id": "Z6hzOKE4aItw",
        "colab_type": "code",
        "colab": {}
      },
      "source": [
        "prediction=pd.DataFrame(Arima_model.predict(n_periods=29), index=test.index)\n",
        "prediction.columns = ['Predicted_Load']"
      ],
      "execution_count": null,
      "outputs": []
    },
    {
      "cell_type": "code",
      "metadata": {
        "id": "4uBP3s1_aI9o",
        "colab_type": "code",
        "colab": {}
      },
      "source": [
        "l1+=test.tolist()\n",
        "l2+=prediction['Predicted_Load'].tolist()"
      ],
      "execution_count": null,
      "outputs": []
    },
    {
      "cell_type": "code",
      "metadata": {
        "id": "Izw0NzgcYpaV",
        "colab_type": "code",
        "colab": {}
      },
      "source": [
        "train=df['hour13'].head(700)\n",
        "test=df['hour13'][700:]"
      ],
      "execution_count": null,
      "outputs": []
    },
    {
      "cell_type": "code",
      "metadata": {
        "id": "uB4tsae6aMYV",
        "colab_type": "code",
        "colab": {}
      },
      "source": [
        "Arima_model=auto_arima(train, start_p=0, start_q=0, max_p=8, max_q=8, start_P=0, start_Q=0, max_P=8, max_Q=8, m=7, seasonal=True, trace=True, d=pmdarima.arima.ndiffs(train), D=pmdarima.arima.nsdiffs(train,7), error_action='warn', suppress_warnings=True, random_state =1 , n_fits=1)"
      ],
      "execution_count": null,
      "outputs": []
    },
    {
      "cell_type": "code",
      "metadata": {
        "id": "deBe9hqAaMR_",
        "colab_type": "code",
        "colab": {}
      },
      "source": [
        "Arima_model.summary()"
      ],
      "execution_count": null,
      "outputs": []
    },
    {
      "cell_type": "code",
      "metadata": {
        "id": "9dTIhm2DaL6a",
        "colab_type": "code",
        "colab": {}
      },
      "source": [
        "prediction=pd.DataFrame(Arima_model.predict(n_periods=29), index=test.index)\n",
        "prediction.columns = ['Predicted_Load']"
      ],
      "execution_count": null,
      "outputs": []
    },
    {
      "cell_type": "code",
      "metadata": {
        "id": "5tTzNebwaMJl",
        "colab_type": "code",
        "colab": {}
      },
      "source": [
        "l1+=test.tolist()\n",
        "l2+=prediction['Predicted_Load'].tolist()"
      ],
      "execution_count": null,
      "outputs": []
    },
    {
      "cell_type": "code",
      "metadata": {
        "id": "O1DPY0zjYqBq",
        "colab_type": "code",
        "colab": {}
      },
      "source": [
        "train=df['hour14'].head(700)\n",
        "test=df['hour14'][700:]"
      ],
      "execution_count": null,
      "outputs": []
    },
    {
      "cell_type": "code",
      "metadata": {
        "id": "vy2S08OJaQGa",
        "colab_type": "code",
        "colab": {}
      },
      "source": [
        "Arima_model=auto_arima(train, start_p=0, start_q=0, max_p=8, max_q=8, start_P=0, start_Q=0, max_P=8, max_Q=8, m=7, seasonal=True, trace=True, d=pmdarima.arima.ndiffs(train), D=pmdarima.arima.nsdiffs(train,7), error_action='warn', suppress_warnings=True, random_state =1 , n_fits=1)"
      ],
      "execution_count": null,
      "outputs": []
    },
    {
      "cell_type": "code",
      "metadata": {
        "id": "RYCDsB2aaO97",
        "colab_type": "code",
        "colab": {}
      },
      "source": [
        "Arima_model.summary()"
      ],
      "execution_count": null,
      "outputs": []
    },
    {
      "cell_type": "code",
      "metadata": {
        "id": "3SSr9H9EaOjF",
        "colab_type": "code",
        "colab": {}
      },
      "source": [
        "prediction=pd.DataFrame(Arima_model.predict(n_periods=29), index=test.index)\n",
        "prediction.columns = ['Predicted_Load']"
      ],
      "execution_count": null,
      "outputs": []
    },
    {
      "cell_type": "code",
      "metadata": {
        "id": "jV1AvRmsaOxJ",
        "colab_type": "code",
        "colab": {}
      },
      "source": [
        "l1+=test.tolist()\n",
        "l2+=prediction['Predicted_Load'].tolist()"
      ],
      "execution_count": null,
      "outputs": []
    },
    {
      "cell_type": "code",
      "metadata": {
        "id": "BUJ55b9RYqmk",
        "colab_type": "code",
        "colab": {}
      },
      "source": [
        "train=df['hour15'].head(700)\n",
        "test=df['hour15'][700:]"
      ],
      "execution_count": null,
      "outputs": []
    },
    {
      "cell_type": "code",
      "metadata": {
        "id": "tFxKUp-yaUm7",
        "colab_type": "code",
        "colab": {}
      },
      "source": [
        "Arima_model=auto_arima(train, start_p=0, start_q=0, max_p=8, max_q=8, start_P=0, start_Q=0, max_P=8, max_Q=8, m=7, seasonal=True, trace=True, d=pmdarima.arima.ndiffs(train), D=pmdarima.arima.nsdiffs(train,7), error_action='warn', suppress_warnings=True, random_state =1 , n_fits=1)"
      ],
      "execution_count": null,
      "outputs": []
    },
    {
      "cell_type": "code",
      "metadata": {
        "id": "T2YDgeYXaTEm",
        "colab_type": "code",
        "colab": {}
      },
      "source": [
        "Arima_model.summary()"
      ],
      "execution_count": null,
      "outputs": []
    },
    {
      "cell_type": "code",
      "metadata": {
        "id": "Y-Yn65SFaSfm",
        "colab_type": "code",
        "colab": {}
      },
      "source": [
        "prediction=pd.DataFrame(Arima_model.predict(n_periods=29), index=test.index)\n",
        "prediction.columns = ['Predicted_Load']"
      ],
      "execution_count": null,
      "outputs": []
    },
    {
      "cell_type": "code",
      "metadata": {
        "id": "dBI-kgO2aSzD",
        "colab_type": "code",
        "colab": {}
      },
      "source": [
        "l1+=test.tolist()\n",
        "l2+=prediction['Predicted_Load'].tolist()"
      ],
      "execution_count": null,
      "outputs": []
    },
    {
      "cell_type": "code",
      "metadata": {
        "id": "XSbZnjkMYrMl",
        "colab_type": "code",
        "colab": {}
      },
      "source": [
        "train=df['hour16'].head(700)\n",
        "test=df['hour16'][700:]"
      ],
      "execution_count": null,
      "outputs": []
    },
    {
      "cell_type": "code",
      "metadata": {
        "id": "ZItoDBJDaXyh",
        "colab_type": "code",
        "colab": {}
      },
      "source": [
        "Arima_model=auto_arima(train, start_p=0, start_q=0, max_p=8, max_q=8, start_P=0, start_Q=0, max_P=8, max_Q=8, m=7, seasonal=True, trace=True, d=pmdarima.arima.ndiffs(train), D=pmdarima.arima.nsdiffs(train,7), error_action='warn', suppress_warnings=True, random_state =1 , n_fits=1)"
      ],
      "execution_count": null,
      "outputs": []
    },
    {
      "cell_type": "code",
      "metadata": {
        "id": "rgJmVO2haXcF",
        "colab_type": "code",
        "colab": {}
      },
      "source": [
        "Arima_model.summary()"
      ],
      "execution_count": null,
      "outputs": []
    },
    {
      "cell_type": "code",
      "metadata": {
        "id": "JZ_rXdJyaW2U",
        "colab_type": "code",
        "colab": {}
      },
      "source": [
        "prediction=pd.DataFrame(Arima_model.predict(n_periods=29), index=test.index)\n",
        "prediction.columns = ['Predicted_Load']"
      ],
      "execution_count": null,
      "outputs": []
    },
    {
      "cell_type": "code",
      "metadata": {
        "id": "l3XxIIezaXKF",
        "colab_type": "code",
        "colab": {}
      },
      "source": [
        "l1+=test.tolist()\n",
        "l2+=prediction['Predicted_Load'].tolist()"
      ],
      "execution_count": null,
      "outputs": []
    },
    {
      "cell_type": "code",
      "metadata": {
        "id": "RxavgreYYsj-",
        "colab_type": "code",
        "colab": {}
      },
      "source": [
        "train=df['hour17'].head(700)\n",
        "test=df['hour17'][700:]"
      ],
      "execution_count": null,
      "outputs": []
    },
    {
      "cell_type": "code",
      "metadata": {
        "id": "oWKmZOJ-alcY",
        "colab_type": "code",
        "colab": {}
      },
      "source": [
        "Arima_model=auto_arima(train, start_p=0, start_q=0, max_p=8, max_q=8, start_P=0, start_Q=0, max_P=8, max_Q=8, m=7, seasonal=True, trace=True, d=pmdarima.arima.ndiffs(train), D=pmdarima.arima.nsdiffs(train,7), error_action='warn', suppress_warnings=True, random_state =1 , n_fits=1)"
      ],
      "execution_count": null,
      "outputs": []
    },
    {
      "cell_type": "code",
      "metadata": {
        "id": "P_CdrNxSalIi",
        "colab_type": "code",
        "colab": {}
      },
      "source": [
        "Arima_model.summary()"
      ],
      "execution_count": null,
      "outputs": []
    },
    {
      "cell_type": "code",
      "metadata": {
        "id": "pT5BUnFqaky4",
        "colab_type": "code",
        "colab": {}
      },
      "source": [
        "prediction=pd.DataFrame(Arima_model.predict(n_periods=29), index=test.index)\n",
        "prediction.columns = ['Predicted_Load']"
      ],
      "execution_count": null,
      "outputs": []
    },
    {
      "cell_type": "code",
      "metadata": {
        "id": "l7wsCSJ0ak-P",
        "colab_type": "code",
        "colab": {}
      },
      "source": [
        "l1+=test.tolist()\n",
        "l2+=prediction['Predicted_Load'].tolist()"
      ],
      "execution_count": null,
      "outputs": []
    },
    {
      "cell_type": "code",
      "metadata": {
        "id": "14iDVN1NYtN8",
        "colab_type": "code",
        "colab": {}
      },
      "source": [
        "train=df['hour18'].head(700)\n",
        "test=df['hour18'][700:]"
      ],
      "execution_count": null,
      "outputs": []
    },
    {
      "cell_type": "code",
      "metadata": {
        "id": "nz-ORPUoa9-z",
        "colab_type": "code",
        "colab": {}
      },
      "source": [
        "Arima_model=auto_arima(train, start_p=0, start_q=0, max_p=8, max_q=8, start_P=0, start_Q=0, max_P=8, max_Q=8, m=7, seasonal=True, trace=True, d=pmdarima.arima.ndiffs(train), D=pmdarima.arima.nsdiffs(train,7), error_action='warn', suppress_warnings=True, random_state =1 , n_fits=1)"
      ],
      "execution_count": null,
      "outputs": []
    },
    {
      "cell_type": "code",
      "metadata": {
        "id": "lGJaQPYpa9p0",
        "colab_type": "code",
        "colab": {}
      },
      "source": [
        "Arima_model.summary()"
      ],
      "execution_count": null,
      "outputs": []
    },
    {
      "cell_type": "code",
      "metadata": {
        "id": "W6n50QlSa85E",
        "colab_type": "code",
        "colab": {}
      },
      "source": [
        "prediction=pd.DataFrame(Arima_model.predict(n_periods=29), index=test.index)\n",
        "prediction.columns = ['Predicted_Load']"
      ],
      "execution_count": null,
      "outputs": []
    },
    {
      "cell_type": "code",
      "metadata": {
        "id": "Y1E2eGEka9aQ",
        "colab_type": "code",
        "colab": {}
      },
      "source": [
        "l1+=test.tolist()\n",
        "l2+=prediction['Predicted_Load'].tolist()"
      ],
      "execution_count": null,
      "outputs": []
    },
    {
      "cell_type": "code",
      "metadata": {
        "id": "wkTabYokYtyz",
        "colab_type": "code",
        "colab": {}
      },
      "source": [
        "train=df['hour19'].head(700)\n",
        "test=df['hour19'][700:]"
      ],
      "execution_count": null,
      "outputs": []
    },
    {
      "cell_type": "code",
      "metadata": {
        "id": "YCRAWDlwbAwR",
        "colab_type": "code",
        "colab": {}
      },
      "source": [
        "Arima_model=auto_arima(train, start_p=0, start_q=0, max_p=8, max_q=8, start_P=0, start_Q=0, max_P=8, max_Q=8, m=7, seasonal=True, trace=True, d=pmdarima.arima.ndiffs(train), D=pmdarima.arima.nsdiffs(train,7), error_action='warn', suppress_warnings=True, random_state =1 , n_fits=1)"
      ],
      "execution_count": null,
      "outputs": []
    },
    {
      "cell_type": "code",
      "metadata": {
        "id": "4o5QWKIibAWG",
        "colab_type": "code",
        "colab": {}
      },
      "source": [
        "Arima_model.summary()"
      ],
      "execution_count": null,
      "outputs": []
    },
    {
      "cell_type": "code",
      "metadata": {
        "id": "GLKoRSgybAAj",
        "colab_type": "code",
        "colab": {}
      },
      "source": [
        "prediction=pd.DataFrame(Arima_model.predict(n_periods=29), index=test.index)\n",
        "prediction.columns = ['Predicted_Load']"
      ],
      "execution_count": null,
      "outputs": []
    },
    {
      "cell_type": "code",
      "metadata": {
        "id": "BhPZA_ZlbANZ",
        "colab_type": "code",
        "colab": {}
      },
      "source": [
        "l1+=test.tolist()\n",
        "l2+=prediction['Predicted_Load'].tolist()"
      ],
      "execution_count": null,
      "outputs": []
    },
    {
      "cell_type": "code",
      "metadata": {
        "id": "veZBMRwrYugo",
        "colab_type": "code",
        "colab": {}
      },
      "source": [
        "train=df['hour20'].head(700)\n",
        "test=df['hour20'][700:]"
      ],
      "execution_count": null,
      "outputs": []
    },
    {
      "cell_type": "code",
      "metadata": {
        "id": "xfm1ZjbibDS3",
        "colab_type": "code",
        "colab": {}
      },
      "source": [
        "Arima_model=auto_arima(train, start_p=0, start_q=0, max_p=8, max_q=8, start_P=0, start_Q=0, max_P=8, max_Q=8, m=7, seasonal=True, trace=True, d=pmdarima.arima.ndiffs(train), D=pmdarima.arima.nsdiffs(train,7), error_action='warn', suppress_warnings=True, random_state =1 , n_fits=1)"
      ],
      "execution_count": null,
      "outputs": []
    },
    {
      "cell_type": "code",
      "metadata": {
        "id": "ywfb-ZedbC6B",
        "colab_type": "code",
        "colab": {}
      },
      "source": [
        "Arima_model.summary()"
      ],
      "execution_count": null,
      "outputs": []
    },
    {
      "cell_type": "code",
      "metadata": {
        "id": "j7JVeHxqbCbh",
        "colab_type": "code",
        "colab": {}
      },
      "source": [
        "prediction=pd.DataFrame(Arima_model.predict(n_periods=29), index=test.index)\n",
        "prediction.columns = ['Predicted_Load']"
      ],
      "execution_count": null,
      "outputs": []
    },
    {
      "cell_type": "code",
      "metadata": {
        "id": "UUyD828kbCrj",
        "colab_type": "code",
        "colab": {}
      },
      "source": [
        "l1+=test.tolist()\n",
        "l2+=prediction['Predicted_Load'].tolist()"
      ],
      "execution_count": null,
      "outputs": []
    },
    {
      "cell_type": "code",
      "metadata": {
        "id": "Mz7Z7fbtYvJe",
        "colab_type": "code",
        "colab": {}
      },
      "source": [
        "train=df['hour21'].head(700)\n",
        "test=df['hour21'][700:]"
      ],
      "execution_count": null,
      "outputs": []
    },
    {
      "cell_type": "code",
      "metadata": {
        "id": "LOlRFvN4bGqi",
        "colab_type": "code",
        "colab": {}
      },
      "source": [
        "Arima_model=auto_arima(train, start_p=0, start_q=0, max_p=8, max_q=8, start_P=0, start_Q=0, max_P=8, max_Q=8, m=7, seasonal=True, trace=True, d=pmdarima.arima.ndiffs(train), D=pmdarima.arima.nsdiffs(train,7), error_action='warn', suppress_warnings=True, random_state =1 , n_fits=1)"
      ],
      "execution_count": null,
      "outputs": []
    },
    {
      "cell_type": "code",
      "metadata": {
        "id": "yZyDBqqebGUE",
        "colab_type": "code",
        "colab": {}
      },
      "source": [
        "Arima_model.summary()"
      ],
      "execution_count": null,
      "outputs": []
    },
    {
      "cell_type": "code",
      "metadata": {
        "id": "TN5wYH4TbFpj",
        "colab_type": "code",
        "colab": {}
      },
      "source": [
        "prediction=pd.DataFrame(Arima_model.predict(n_periods=29), index=test.index)\n",
        "prediction.columns = ['Predicted_Load']"
      ],
      "execution_count": null,
      "outputs": []
    },
    {
      "cell_type": "code",
      "metadata": {
        "id": "v7TEkzSebF2e",
        "colab_type": "code",
        "colab": {}
      },
      "source": [
        "l1+=test.tolist()\n",
        "l2+=prediction['Predicted_Load'].tolist()"
      ],
      "execution_count": null,
      "outputs": []
    },
    {
      "cell_type": "code",
      "metadata": {
        "id": "Bhzz39ObYv-9",
        "colab_type": "code",
        "colab": {}
      },
      "source": [
        "train=df['hour22'].head(700)\n",
        "test=df['hour22'][700:]"
      ],
      "execution_count": null,
      "outputs": []
    },
    {
      "cell_type": "code",
      "metadata": {
        "id": "Ace11vy2bI_E",
        "colab_type": "code",
        "colab": {}
      },
      "source": [
        "Arima_model=auto_arima(train, start_p=0, start_q=0, max_p=8, max_q=8, start_P=0, start_Q=0, max_P=8, max_Q=8, m=7, seasonal=True, trace=True, d=pmdarima.arima.ndiffs(train), D=pmdarima.arima.nsdiffs(train,7), error_action='warn', suppress_warnings=True, random_state =1 , n_fits=1)"
      ],
      "execution_count": null,
      "outputs": []
    },
    {
      "cell_type": "code",
      "metadata": {
        "id": "55AJgLV5bIr9",
        "colab_type": "code",
        "colab": {}
      },
      "source": [
        "Arima_model.summary()"
      ],
      "execution_count": null,
      "outputs": []
    },
    {
      "cell_type": "code",
      "metadata": {
        "id": "ivhjg2ZCbH11",
        "colab_type": "code",
        "colab": {}
      },
      "source": [
        "prediction=pd.DataFrame(Arima_model.predict(n_periods=29), index=test.index)\n",
        "prediction.columns = ['Predicted_Load']"
      ],
      "execution_count": null,
      "outputs": []
    },
    {
      "cell_type": "code",
      "metadata": {
        "id": "Xgkw7La4bIGC",
        "colab_type": "code",
        "colab": {}
      },
      "source": [
        "l1+=test.tolist()\n",
        "l2+=prediction['Predicted_Load'].tolist()"
      ],
      "execution_count": null,
      "outputs": []
    },
    {
      "cell_type": "code",
      "metadata": {
        "id": "IWQ5Moy_ZWra",
        "colab_type": "code",
        "colab": {}
      },
      "source": [
        "train=df['hour23'].head(700)\n",
        "test=df['hour23'][700:]"
      ],
      "execution_count": null,
      "outputs": []
    },
    {
      "cell_type": "code",
      "metadata": {
        "id": "O_q5rp-_bLHk",
        "colab_type": "code",
        "colab": {}
      },
      "source": [
        "Arima_model=auto_arima(train, start_p=0, start_q=0, max_p=8, max_q=8, start_P=0, start_Q=0, max_P=8, max_Q=8, m=7, seasonal=True, trace=True, d=pmdarima.arima.ndiffs(train), D=pmdarima.arima.nsdiffs(train,7), error_action='warn', suppress_warnings=True, random_state =1 , n_fits=1)"
      ],
      "execution_count": null,
      "outputs": []
    },
    {
      "cell_type": "code",
      "metadata": {
        "id": "MOBGTsuUbKyK",
        "colab_type": "code",
        "colab": {}
      },
      "source": [
        "Arima_model.summary()"
      ],
      "execution_count": null,
      "outputs": []
    },
    {
      "cell_type": "code",
      "metadata": {
        "id": "rix9eq7-bKPu",
        "colab_type": "code",
        "colab": {}
      },
      "source": [
        "prediction=pd.DataFrame(Arima_model.predict(n_periods=29), index=test.index)\n",
        "prediction.columns = ['Predicted_Load']"
      ],
      "execution_count": null,
      "outputs": []
    },
    {
      "cell_type": "code",
      "metadata": {
        "id": "gCl08UtcbKd0",
        "colab_type": "code",
        "colab": {}
      },
      "source": [
        "l1+=test.tolist()\n",
        "l2+=prediction['Predicted_Load'].tolist()"
      ],
      "execution_count": null,
      "outputs": []
    },
    {
      "cell_type": "code",
      "metadata": {
        "id": "FzAKMEd4dE_9",
        "colab_type": "code",
        "colab": {}
      },
      "source": [
        "l3=list()\n",
        "l4=list()"
      ],
      "execution_count": null,
      "outputs": []
    },
    {
      "cell_type": "code",
      "metadata": {
        "id": "niw6BaqEdJOR",
        "colab_type": "code",
        "colab": {}
      },
      "source": [
        "for i in range(0,29):\n",
        "    for j in range(0,23):\n",
        "        l3.append(l1[j*29+i])\n",
        "        l4.append(l2[j*29+i])"
      ],
      "execution_count": null,
      "outputs": []
    },
    {
      "cell_type": "code",
      "metadata": {
        "id": "Zy73NM9ddMWP",
        "colab_type": "code",
        "colab": {}
      },
      "source": [
        "mape=mean_absolute_percentage_error(l3, l4)"
      ],
      "execution_count": null,
      "outputs": []
    },
    {
      "cell_type": "code",
      "metadata": {
        "id": "fbMbRP5SdUun",
        "colab_type": "code",
        "colab": {}
      },
      "source": [
        "mape"
      ],
      "execution_count": null,
      "outputs": []
    },
    {
      "cell_type": "code",
      "metadata": {
        "id": "gA0vq-Y6dVry",
        "colab_type": "code",
        "colab": {}
      },
      "source": [
        "plt.figure(figsize=(25,11))\n",
        "plt.plot(l3, label='test')\n",
        "plt.plot(l4, label='prediction')\n",
        "plt.xlim(300,706)\n",
        "plt.legend(loc='upper left')\n",
        "plt.show()"
      ],
      "execution_count": null,
      "outputs": []
    }
  ]
}